{
 "cells": [
  {
   "cell_type": "markdown",
   "metadata": {},
   "source": [
    "# 🌌 Loop de Ressonância Informacional\n",
    "Este notebook demonstra o funcionamento da TGU com base no Spin Informacional e ICOER."
   ]
  },
  {
   "cell_type": "code",
   "execution_count": null,
   "metadata": {},
   "outputs": [],
   "source": [
    "from icoer.icoer_entropy_metric import icoer_from_pos_tags\n",
    "from spin_kernel.tgu_spin_kernel import spin_resonance\n",
    "from fractal_trainer.fractal_sync_trainer import spin_sync_loop\n",
    "\n",
    "# Exemplo simbólico\n",
    "tags = ['NOUN', 'VERB', 'ADJ', 'NOUN', 'VERB', 'ADJ']\n",
    "print('ICOER:', icoer_from_pos_tags(tags))\n",
    "\n",
    "data = [[1,2,3], [0.1,0.5,0.4], [9,9,9]]\n",
    "print('Ressonância:', spin_sync_loop(data, spin_resonance))"
   ]
  }
 ],
 "metadata": {
  "kernelspec": {
   "display_name": "Python 3",
   "language": "python",
   "name": "python3"
  },
  "language_info": {
   "name": "python"
  }
 },
 "nbformat": 4,
 "nbformat_minor": 2
}
